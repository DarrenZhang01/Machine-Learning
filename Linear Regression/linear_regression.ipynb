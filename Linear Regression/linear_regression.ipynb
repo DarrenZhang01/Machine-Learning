{
 "cells": [
  {
   "cell_type": "markdown",
   "metadata": {},
   "source": [
    "## Note for Linear Regression and Data Analysis - Zhibo (Darren) Zhang\n",
    "      (Partially refer from STA302 University of Toronto, prof Mark Ebden)"
   ]
  },
  {
   "cell_type": "markdown",
   "metadata": {},
   "source": [
    "Given a set of data points, we want to construct a SLR (simple linear regression) model for the data of the form $y = \\beta_0 + \\beta_1 x$. "
   ]
  },
  {
   "cell_type": "markdown",
   "metadata": {},
   "source": [
    "Note that we assume that there is such a model that perfectly fits the data ($y=\\beta_0 + \\beta_1 x + e$, where $e$ is the random error term), but we never know the actual model. So we want to use some method to estimate it. To be specific, given $x$, we want to use parameters to estimate the prediction output, denoted as $\\hat y$. \n",
    "\n",
    "In this way, if we can estimate the \"tool\" for the model, which is the parameter $\\beta_1$ and $\\beta_2$, then we can use the estimator (linear function) to make predctions."
   ]
  },
  {
   "cell_type": "markdown",
   "metadata": {},
   "source": [
    "Denote the estimated parameters as $\\hat \\beta_0$ and $\\hat \\beta_1$ accordingly. The next step is to get an estimation equation for these two parameters. "
   ]
  },
  {
   "cell_type": "markdown",
   "metadata": {},
   "source": [
    "$\\bullet$ Given a set of training examples of size N, $\\{x_1, x_2, ..., x_N\\}$ and its according labels $\\{y_1, y_2, ..., y_N\\}$, denote an input matrix $\\mathbf{X}$ to be:\n",
    "\n",
    "$$ \\mathbf{X} =\n",
    "\\begin{bmatrix}\n",
    "    1 & x_1 \\\\\n",
    "    1 & x_2  \\\\\n",
    "    \\vdots & \\vdots \\\\\n",
    "    1 & x_N\n",
    "\\end{bmatrix}\n",
    "$$\n",
    "where $\\mathbf{X}$ is of size N $\\times$ 2, denote the parameter vector $\\boldsymbol{\\hat \\beta}$ to be:\n",
    "\n",
    "$$\\boldsymbol{\\hat\\beta} =\n",
    "\\begin{bmatrix}\n",
    "    \\hat\\beta_0 \\\\\n",
    "    \\hat\\beta_1\n",
    "\\end{bmatrix}\n",
    "$$"
   ]
  },
  {
   "cell_type": "markdown",
   "metadata": {},
   "source": [
    "$\\bullet$ To denote the residual terms (the difference between the actual value and the prediction output, which can be regarded as an estimation for the random error), denote $ \\mathbf{\\hat e}$ and label vector $\\mathbf{Y}$to be:\n",
    "$$ \\mathbf{\\hat e} = \n",
    "\\begin{bmatrix}\n",
    "    \\hat e_1 \\\\\n",
    "    \\hat e_2\\\\\n",
    "    \\vdots \\\\\n",
    "    \\hat e_N\n",
    "\\end{bmatrix}, \\quad \\mathbf{Y} = \n",
    "\\begin{bmatrix}\n",
    "    y_1\\\\\n",
    "    y_2 \\\\\n",
    "    \\vdots \\\\\n",
    "    y_N\n",
    "\\end{bmatrix}\n",
    "$$"
   ]
  },
  {
   "cell_type": "markdown",
   "metadata": {},
   "source": [
    "In this way, the equation becomes $\\mathbf{Y} = \\mathbf{X} \\boldsymbol{\\hat\\beta} + \\mathbf{\\hat e}$"
   ]
  },
  {
   "cell_type": "markdown",
   "metadata": {},
   "source": [
    "Our goal is to minimize the sum of residuals, which is the sum of residual vector, so called RSS (Residual Sum of Squares). Thus, denote an equation for RSS:\n",
    "$$\n",
    "\\begin{equation}\n",
    "\\begin{split}\n",
    "RSS &= (\\mathbf{Y} - \\mathbf{X} \\boldsymbol{\\hat\\beta})'(\\mathbf{Y} - \\mathbf{X} \\boldsymbol{\\hat\\beta})\\\\\n",
    "      &=  (\\mathbf{Y}' - (\\mathbf{X} \\boldsymbol{\\hat\\beta})')(\\mathbf{Y} - \\mathbf{X} \\boldsymbol{\\hat\\beta})\\\\\n",
    "      &=  (\\mathbf{Y}' - \\boldsymbol{\\hat\\beta}'\\mathbf{X}')(\\mathbf{Y} - \\mathbf{X} \\boldsymbol{\\hat\\beta})\\\\\n",
    "      &=  \\mathbf{Y}'\\mathbf{Y} - \\mathbf{Y}'\\mathbf{X} \\boldsymbol{\\hat\\beta} - \\boldsymbol{\\hat\\beta}'\\mathbf{X}'\\mathbf{Y} + \\boldsymbol{\\hat\\beta}'\\mathbf{X}'\\mathbf{X} \\boldsymbol{\\hat\\beta}\\\\\n",
    "      &=  \\mathbf{Y}'\\mathbf{Y} - 2\\boldsymbol{\\hat\\beta}'\\mathbf{X}'\\mathbf{Y} + \\boldsymbol{\\hat\\beta}'\\mathbf{X}'\\mathbf{X} \\boldsymbol{\\hat\\beta}\n",
    "\\end{split}\n",
    "\\end{equation}\n",
    "$$"
   ]
  },
  {
   "cell_type": "markdown",
   "metadata": {},
   "source": [
    "In order to minimize the above equation, take the derivative with respect to $\\boldsymbol{\\hat\\beta}$ and set it to zero:\n",
    "\n",
    "$$\n",
    "\\frac{\\partial RSS}{\\partial \\boldsymbol{\\hat\\beta}} = - 2\\mathbf{X}'\\mathbf{Y} + 2\\mathbf{X}'\\mathbf{X} \\boldsymbol{\\hat\\beta} = 0\n",
    "$$"
   ]
  },
  {
   "cell_type": "markdown",
   "metadata": {},
   "source": [
    "Therefore, we get the estimation for the parameter matrix:\n",
    "\n",
    "$$\n",
    " \\boldsymbol{\\hat\\beta} = (\\mathbf{X}'\\mathbf{X})^{-1}\\mathbf{X}'\\mathbf{Y}\n",
    "$$"
   ]
  },
  {
   "cell_type": "markdown",
   "metadata": {},
   "source": [
    "_I wil realize this process using python as the next step_"
   ]
  },
  {
   "cell_type": "code",
   "execution_count": null,
   "metadata": {},
   "outputs": [],
   "source": []
  }
 ],
 "metadata": {
  "kernelspec": {
   "display_name": "Python 3",
   "language": "python",
   "name": "python3"
  },
  "language_info": {
   "codemirror_mode": {
    "name": "ipython",
    "version": 3
   },
   "file_extension": ".py",
   "mimetype": "text/x-python",
   "name": "python",
   "nbconvert_exporter": "python",
   "pygments_lexer": "ipython3",
   "version": "3.7.0"
  }
 },
 "nbformat": 4,
 "nbformat_minor": 2
}
